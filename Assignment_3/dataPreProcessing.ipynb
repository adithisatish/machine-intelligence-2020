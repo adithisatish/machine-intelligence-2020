{
 "cells": [
  {
   "cell_type": "code",
   "execution_count": 61,
   "metadata": {},
   "outputs": [],
   "source": [
    "import pandas as pd\n",
    "import numpy as np\n",
    "import os\n",
    "import statistics as stat"
   ]
  },
  {
   "cell_type": "code",
   "execution_count": 6,
   "metadata": {
    "scrolled": true
   },
   "outputs": [
    {
     "data": {
      "text/html": [
       "<div>\n",
       "<style scoped>\n",
       "    .dataframe tbody tr th:only-of-type {\n",
       "        vertical-align: middle;\n",
       "    }\n",
       "\n",
       "    .dataframe tbody tr th {\n",
       "        vertical-align: top;\n",
       "    }\n",
       "\n",
       "    .dataframe thead th {\n",
       "        text-align: right;\n",
       "    }\n",
       "</style>\n",
       "<table border=\"1\" class=\"dataframe\">\n",
       "  <thead>\n",
       "    <tr style=\"text-align: right;\">\n",
       "      <th></th>\n",
       "      <th>Community</th>\n",
       "      <th>Age</th>\n",
       "      <th>Weight</th>\n",
       "      <th>Delivery phase</th>\n",
       "      <th>HB</th>\n",
       "      <th>IFA</th>\n",
       "      <th>BP</th>\n",
       "      <th>Education</th>\n",
       "      <th>Residence</th>\n",
       "      <th>Result</th>\n",
       "    </tr>\n",
       "  </thead>\n",
       "  <tbody>\n",
       "    <tr>\n",
       "      <th>0</th>\n",
       "      <td>1</td>\n",
       "      <td>21.0</td>\n",
       "      <td>42.0</td>\n",
       "      <td>1.0</td>\n",
       "      <td>9.2</td>\n",
       "      <td>1</td>\n",
       "      <td>1.375</td>\n",
       "      <td>5.0</td>\n",
       "      <td>1.0</td>\n",
       "      <td>0</td>\n",
       "    </tr>\n",
       "    <tr>\n",
       "      <th>1</th>\n",
       "      <td>1</td>\n",
       "      <td>21.0</td>\n",
       "      <td>NaN</td>\n",
       "      <td>1.0</td>\n",
       "      <td>8.8</td>\n",
       "      <td>1</td>\n",
       "      <td>1.500</td>\n",
       "      <td>5.0</td>\n",
       "      <td>1.0</td>\n",
       "      <td>0</td>\n",
       "    </tr>\n",
       "    <tr>\n",
       "      <th>2</th>\n",
       "      <td>1</td>\n",
       "      <td>21.0</td>\n",
       "      <td>NaN</td>\n",
       "      <td>1.0</td>\n",
       "      <td>9.2</td>\n",
       "      <td>1</td>\n",
       "      <td>2.125</td>\n",
       "      <td>5.0</td>\n",
       "      <td>1.0</td>\n",
       "      <td>0</td>\n",
       "    </tr>\n",
       "    <tr>\n",
       "      <th>3</th>\n",
       "      <td>1</td>\n",
       "      <td>21.0</td>\n",
       "      <td>NaN</td>\n",
       "      <td>1.0</td>\n",
       "      <td>8.0</td>\n",
       "      <td>1</td>\n",
       "      <td>1.375</td>\n",
       "      <td>5.0</td>\n",
       "      <td>1.0</td>\n",
       "      <td>0</td>\n",
       "    </tr>\n",
       "    <tr>\n",
       "      <th>4</th>\n",
       "      <td>1</td>\n",
       "      <td>24.0</td>\n",
       "      <td>33.0</td>\n",
       "      <td>1.0</td>\n",
       "      <td>9.3</td>\n",
       "      <td>1</td>\n",
       "      <td>1.571</td>\n",
       "      <td>5.0</td>\n",
       "      <td>1.0</td>\n",
       "      <td>0</td>\n",
       "    </tr>\n",
       "  </tbody>\n",
       "</table>\n",
       "</div>"
      ],
      "text/plain": [
       "   Community   Age  Weight  Delivery phase   HB  IFA     BP  Education  \\\n",
       "0          1  21.0    42.0             1.0  9.2    1  1.375        5.0   \n",
       "1          1  21.0     NaN             1.0  8.8    1  1.500        5.0   \n",
       "2          1  21.0     NaN             1.0  9.2    1  2.125        5.0   \n",
       "3          1  21.0     NaN             1.0  8.0    1  1.375        5.0   \n",
       "4          1  24.0    33.0             1.0  9.3    1  1.571        5.0   \n",
       "\n",
       "   Residence  Result  \n",
       "0        1.0       0  \n",
       "1        1.0       0  \n",
       "2        1.0       0  \n",
       "3        1.0       0  \n",
       "4        1.0       0  "
      ]
     },
     "execution_count": 6,
     "metadata": {},
     "output_type": "execute_result"
    }
   ],
   "source": [
    "#os.getcwd()\n",
    "df = pd.read_csv(\"LBW_Dataset.csv\")\n",
    "df.head()"
   ]
  },
  {
   "cell_type": "code",
   "execution_count": 53,
   "metadata": {},
   "outputs": [
    {
     "name": "stdout",
     "output_type": "stream",
     "text": [
      "23.8\n"
     ]
    }
   ],
   "source": [
    "#len(df)\n",
    "# accounting for missing values in column Age\n",
    "\n",
    "i = 0\n",
    "mean_age = 0\n",
    "for ages in df['Age']:\n",
    "    if ages > 0:\n",
    "        i += 1\n",
    "        mean_age += ages\n",
    "mean_age = mean_age/i\n",
    "mean_age = round(mean_age,1)\n",
    "print(mean_age)\n",
    "#print(i)\n",
    "\n",
    "i = 0\n",
    "l = []\n",
    "for ages in df['Age']:\n",
    "    if ages > 0:\n",
    "        l.insert(i, ages)\n",
    "    else:\n",
    "        l.insert(i, mean_age)\n",
    "    i += 1\n",
    "\n",
    "df['Age'] = l"
   ]
  },
  {
   "cell_type": "code",
   "execution_count": 58,
   "metadata": {},
   "outputs": [
    {
     "name": "stdout",
     "output_type": "stream",
     "text": [
      "45.1\n"
     ]
    }
   ],
   "source": [
    "# accounting for missing values in Weight\n",
    "\n",
    "i = 0\n",
    "mean_wt = 0\n",
    "for wt in df['Weight']:\n",
    "    if wt > 0:\n",
    "        i += 1\n",
    "        mean_wt += wt\n",
    "mean_wt = mean_wt/i\n",
    "mean_wt = round(mean_wt,1)\n",
    "print(mean_wt)\n",
    "#print(i)\n",
    "\n",
    "i = 0\n",
    "l = []\n",
    "for wt in df['Weight']:\n",
    "    if wt > 0:\n",
    "        l.insert(i, wt)\n",
    "    else:\n",
    "        l.insert(i, mean_wt)\n",
    "    i += 1\n",
    "\n",
    "df['Weight'] = l\n"
   ]
  },
  {
   "cell_type": "code",
   "execution_count": 96,
   "metadata": {},
   "outputs": [
    {
     "data": {
      "text/plain": [
       "0     1.0\n",
       "1     1.0\n",
       "2     1.0\n",
       "3     1.0\n",
       "4     1.0\n",
       "     ... \n",
       "91    1.0\n",
       "92    2.0\n",
       "93    1.0\n",
       "94    1.0\n",
       "95    1.0\n",
       "Name: Delivery phase, Length: 96, dtype: float64"
      ]
     },
     "execution_count": 96,
     "metadata": {},
     "output_type": "execute_result"
    }
   ],
   "source": [
    "# accounting for missing values in Delivery Phase\n",
    "\n",
    "mode_deliv = (stat.mode(df['Delivery phase']))\n",
    "l = []\n",
    "i=0\n",
    "for deliv in df['Delivery phase']:\n",
    "    if deliv == 1 or deliv == 2:\n",
    "        l.insert(i, deliv)\n",
    "    else:\n",
    "        l.insert(i, mode_deliv)\n",
    "    i += 1\n",
    "df['Delivery phase'] = l  "
   ]
  },
  {
   "cell_type": "code",
   "execution_count": 100,
   "metadata": {},
   "outputs": [
    {
     "name": "stdout",
     "output_type": "stream",
     "text": [
      "9.1\n"
     ]
    }
   ],
   "source": [
    "# accounting for missing values in HB\n",
    "\n",
    "#df['HB'].isnull().sum()\n",
    "\n",
    "i = 0\n",
    "mean_hb = 0\n",
    "for hb in df['HB']:\n",
    "    if hb > 0:\n",
    "        i += 1\n",
    "        mean_hb += hb\n",
    "mean_hb = mean_hb/i\n",
    "mean_hb = round(mean_hb,1)\n",
    "print(mean_hb)\n",
    "#print(i)\n",
    "\n",
    "i = 0\n",
    "l = []\n",
    "for hb in df['HB']:\n",
    "    if hb > 0:\n",
    "        l.insert(i, hb)\n",
    "    else:\n",
    "        l.insert(i, mean_hb)\n",
    "    i += 1\n",
    "\n",
    "df['HB'] = l\n"
   ]
  },
  {
   "cell_type": "code",
   "execution_count": 103,
   "metadata": {},
   "outputs": [
    {
     "data": {
      "text/plain": [
       "15"
      ]
     },
     "execution_count": 103,
     "metadata": {},
     "output_type": "execute_result"
    }
   ],
   "source": [
    "#df['IFA'].isnull().sum()\n",
    "df['BP'].isnull().sum()"
   ]
  },
  {
   "cell_type": "code",
   "execution_count": 109,
   "metadata": {},
   "outputs": [
    {
     "name": "stdout",
     "output_type": "stream",
     "text": [
      "1.721\n"
     ]
    }
   ],
   "source": [
    "# accounting for missing values in BP\n",
    "# i resused code and didnt change variables.\n",
    "\n",
    "i = 0\n",
    "mean_hb = 0\n",
    "for hb in df['BP']:\n",
    "    if hb > 0:\n",
    "        i += 1\n",
    "        mean_hb += hb\n",
    "mean_hb = mean_hb/i\n",
    "mean_hb = round(mean_hb,3)\n",
    "print(mean_hb)\n",
    "#print(i)\n",
    "\n",
    "i = 0\n",
    "l = []\n",
    "for hb in df['BP']:\n",
    "    if hb > 0:\n",
    "        l.insert(i, hb)\n",
    "    else:\n",
    "        l.insert(i, mean_hb)\n",
    "    i += 1\n",
    "\n",
    "df['BP'] = l"
   ]
  },
  {
   "cell_type": "code",
   "execution_count": 112,
   "metadata": {},
   "outputs": [
    {
     "data": {
      "text/plain": [
       "3"
      ]
     },
     "execution_count": 112,
     "metadata": {},
     "output_type": "execute_result"
    }
   ],
   "source": [
    "df['Education'].isnull().sum()\n",
    "df['Residence'].isnull().sum()\n",
    "# do we delete these rows ? or we can use mode which is 5 for Education and 1 for Residence"
   ]
  },
  {
   "cell_type": "code",
   "execution_count": null,
   "metadata": {},
   "outputs": [],
   "source": []
  },
  {
   "cell_type": "code",
   "execution_count": null,
   "metadata": {},
   "outputs": [],
   "source": []
  }
 ],
 "metadata": {
  "kernelspec": {
   "display_name": "Python 3",
   "language": "python",
   "name": "python3"
  },
  "language_info": {
   "codemirror_mode": {
    "name": "ipython",
    "version": 3
   },
   "file_extension": ".py",
   "mimetype": "text/x-python",
   "name": "python",
   "nbconvert_exporter": "python",
   "pygments_lexer": "ipython3",
   "version": "3.8.5"
  }
 },
 "nbformat": 4,
 "nbformat_minor": 4
}
